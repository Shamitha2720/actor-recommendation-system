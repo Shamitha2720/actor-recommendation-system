{
  "nbformat": 4,
  "nbformat_minor": 0,
  "metadata": {
    "colab": {
      "provenance": []
    },
    "kernelspec": {
      "name": "python3",
      "display_name": "Python 3"
    },
    "language_info": {
      "name": "python"
    }
  },
  "cells": [
    {
      "cell_type": "code",
      "execution_count": 1,
      "metadata": {
        "colab": {
          "base_uri": "https://localhost:8080/"
        },
        "id": "_W8RIrXYMfuS",
        "outputId": "c61d736a-f578-4d26-a9d3-e55c03aecb3f"
      },
      "outputs": [
        {
          "output_type": "stream",
          "name": "stdout",
          "text": [
            "   movieId                   title                 genres    userId  rating  \\\n",
            "0   120510  Value for Money (1955)         Comedy|Romance       NaN     NaN   \n",
            "1   212955     Face of Evil (1996)         Drama|Thriller       NaN     NaN   \n",
            "2   193912      Spring 1941 (2007)      Drama|Romance|War       NaN     NaN   \n",
            "3   163921       Wolf Creek (2016)  Crime|Horror|Thriller   75455.0     1.5   \n",
            "4   163921       Wolf Creek (2016)  Crime|Horror|Thriller  160157.0     3.5   \n",
            "\n",
            "    timestamp_x   imdbId    tmdbId  tag  timestamp_y  \n",
            "0           NaN    48772  171394.0  NaN          NaN  \n",
            "1           NaN   116264  268881.0  NaN          NaN  \n",
            "2           NaN  1252616   53604.0  NaN          NaN  \n",
            "3  1.601233e+09  4460878  388131.0  NaN          NaN  \n",
            "4  1.609307e+09  4460878  388131.0  NaN          NaN  \n"
          ]
        }
      ],
      "source": [
        "import pandas as pd\n",
        "\n",
        "# Load each CSV file\n",
        "movies_df = pd.read_csv(\"movies_set1.csv\")            # movies data\n",
        "ratings_df = pd.read_csv(\"ratings_set1.csv\")          # ratings data\n",
        "links_df = pd.read_csv(\"links_set1.csv\")            # links data\n",
        "tags_df = pd.read_csv(\"tags_set1.csv\")               # tags data\n",
        "\n",
        "# Merge datasets on 'movieId' column\n",
        "# Step-by-step merges to ensure data completeness and to handle potential mismatches\n",
        "combined_df = pd.merge(movies_df, ratings_df, on='movieId', how='left')\n",
        "combined_df = pd.merge(combined_df, links_df, on='movieId', how='left')\n",
        "combined_df = pd.merge(combined_df, tags_df, on=['movieId', 'userId'], how='left')\n",
        "\n",
        "# Display the resulting combined dataset\n",
        "print(combined_df.head())\n"
      ]
    },
    {
      "cell_type": "code",
      "source": [
        "movies_df.head()"
      ],
      "metadata": {
        "colab": {
          "base_uri": "https://localhost:8080/",
          "height": 206
        },
        "id": "XBR7CNnlT8-B",
        "outputId": "2c65f9a6-0b63-4a00-d0c2-290ff736e578"
      },
      "execution_count": 2,
      "outputs": [
        {
          "output_type": "execute_result",
          "data": {
            "text/plain": [
              "   movieId                           title                 genres\n",
              "0   120510          Value for Money (1955)         Comedy|Romance\n",
              "1   212955             Face of Evil (1996)         Drama|Thriller\n",
              "2   193912              Spring 1941 (2007)      Drama|Romance|War\n",
              "3   163921               Wolf Creek (2016)  Crime|Horror|Thriller\n",
              "4   126652  Raven the Little Rascal (2012)     Animation|Children"
            ],
            "text/html": [
              "\n",
              "  <div id=\"df-a40cbbfb-be2d-46f8-ac31-95ed34b6ed53\" class=\"colab-df-container\">\n",
              "    <div>\n",
              "<style scoped>\n",
              "    .dataframe tbody tr th:only-of-type {\n",
              "        vertical-align: middle;\n",
              "    }\n",
              "\n",
              "    .dataframe tbody tr th {\n",
              "        vertical-align: top;\n",
              "    }\n",
              "\n",
              "    .dataframe thead th {\n",
              "        text-align: right;\n",
              "    }\n",
              "</style>\n",
              "<table border=\"1\" class=\"dataframe\">\n",
              "  <thead>\n",
              "    <tr style=\"text-align: right;\">\n",
              "      <th></th>\n",
              "      <th>movieId</th>\n",
              "      <th>title</th>\n",
              "      <th>genres</th>\n",
              "    </tr>\n",
              "  </thead>\n",
              "  <tbody>\n",
              "    <tr>\n",
              "      <th>0</th>\n",
              "      <td>120510</td>\n",
              "      <td>Value for Money (1955)</td>\n",
              "      <td>Comedy|Romance</td>\n",
              "    </tr>\n",
              "    <tr>\n",
              "      <th>1</th>\n",
              "      <td>212955</td>\n",
              "      <td>Face of Evil (1996)</td>\n",
              "      <td>Drama|Thriller</td>\n",
              "    </tr>\n",
              "    <tr>\n",
              "      <th>2</th>\n",
              "      <td>193912</td>\n",
              "      <td>Spring 1941 (2007)</td>\n",
              "      <td>Drama|Romance|War</td>\n",
              "    </tr>\n",
              "    <tr>\n",
              "      <th>3</th>\n",
              "      <td>163921</td>\n",
              "      <td>Wolf Creek (2016)</td>\n",
              "      <td>Crime|Horror|Thriller</td>\n",
              "    </tr>\n",
              "    <tr>\n",
              "      <th>4</th>\n",
              "      <td>126652</td>\n",
              "      <td>Raven the Little Rascal (2012)</td>\n",
              "      <td>Animation|Children</td>\n",
              "    </tr>\n",
              "  </tbody>\n",
              "</table>\n",
              "</div>\n",
              "    <div class=\"colab-df-buttons\">\n",
              "\n",
              "  <div class=\"colab-df-container\">\n",
              "    <button class=\"colab-df-convert\" onclick=\"convertToInteractive('df-a40cbbfb-be2d-46f8-ac31-95ed34b6ed53')\"\n",
              "            title=\"Convert this dataframe to an interactive table.\"\n",
              "            style=\"display:none;\">\n",
              "\n",
              "  <svg xmlns=\"http://www.w3.org/2000/svg\" height=\"24px\" viewBox=\"0 -960 960 960\">\n",
              "    <path d=\"M120-120v-720h720v720H120Zm60-500h600v-160H180v160Zm220 220h160v-160H400v160Zm0 220h160v-160H400v160ZM180-400h160v-160H180v160Zm440 0h160v-160H620v160ZM180-180h160v-160H180v160Zm440 0h160v-160H620v160Z\"/>\n",
              "  </svg>\n",
              "    </button>\n",
              "\n",
              "  <style>\n",
              "    .colab-df-container {\n",
              "      display:flex;\n",
              "      gap: 12px;\n",
              "    }\n",
              "\n",
              "    .colab-df-convert {\n",
              "      background-color: #E8F0FE;\n",
              "      border: none;\n",
              "      border-radius: 50%;\n",
              "      cursor: pointer;\n",
              "      display: none;\n",
              "      fill: #1967D2;\n",
              "      height: 32px;\n",
              "      padding: 0 0 0 0;\n",
              "      width: 32px;\n",
              "    }\n",
              "\n",
              "    .colab-df-convert:hover {\n",
              "      background-color: #E2EBFA;\n",
              "      box-shadow: 0px 1px 2px rgba(60, 64, 67, 0.3), 0px 1px 3px 1px rgba(60, 64, 67, 0.15);\n",
              "      fill: #174EA6;\n",
              "    }\n",
              "\n",
              "    .colab-df-buttons div {\n",
              "      margin-bottom: 4px;\n",
              "    }\n",
              "\n",
              "    [theme=dark] .colab-df-convert {\n",
              "      background-color: #3B4455;\n",
              "      fill: #D2E3FC;\n",
              "    }\n",
              "\n",
              "    [theme=dark] .colab-df-convert:hover {\n",
              "      background-color: #434B5C;\n",
              "      box-shadow: 0px 1px 3px 1px rgba(0, 0, 0, 0.15);\n",
              "      filter: drop-shadow(0px 1px 2px rgba(0, 0, 0, 0.3));\n",
              "      fill: #FFFFFF;\n",
              "    }\n",
              "  </style>\n",
              "\n",
              "    <script>\n",
              "      const buttonEl =\n",
              "        document.querySelector('#df-a40cbbfb-be2d-46f8-ac31-95ed34b6ed53 button.colab-df-convert');\n",
              "      buttonEl.style.display =\n",
              "        google.colab.kernel.accessAllowed ? 'block' : 'none';\n",
              "\n",
              "      async function convertToInteractive(key) {\n",
              "        const element = document.querySelector('#df-a40cbbfb-be2d-46f8-ac31-95ed34b6ed53');\n",
              "        const dataTable =\n",
              "          await google.colab.kernel.invokeFunction('convertToInteractive',\n",
              "                                                    [key], {});\n",
              "        if (!dataTable) return;\n",
              "\n",
              "        const docLinkHtml = 'Like what you see? Visit the ' +\n",
              "          '<a target=\"_blank\" href=https://colab.research.google.com/notebooks/data_table.ipynb>data table notebook</a>'\n",
              "          + ' to learn more about interactive tables.';\n",
              "        element.innerHTML = '';\n",
              "        dataTable['output_type'] = 'display_data';\n",
              "        await google.colab.output.renderOutput(dataTable, element);\n",
              "        const docLink = document.createElement('div');\n",
              "        docLink.innerHTML = docLinkHtml;\n",
              "        element.appendChild(docLink);\n",
              "      }\n",
              "    </script>\n",
              "  </div>\n",
              "\n",
              "\n",
              "<div id=\"df-3d0e003b-1d04-424d-90da-0db943b143b4\">\n",
              "  <button class=\"colab-df-quickchart\" onclick=\"quickchart('df-3d0e003b-1d04-424d-90da-0db943b143b4')\"\n",
              "            title=\"Suggest charts\"\n",
              "            style=\"display:none;\">\n",
              "\n",
              "<svg xmlns=\"http://www.w3.org/2000/svg\" height=\"24px\"viewBox=\"0 0 24 24\"\n",
              "     width=\"24px\">\n",
              "    <g>\n",
              "        <path d=\"M19 3H5c-1.1 0-2 .9-2 2v14c0 1.1.9 2 2 2h14c1.1 0 2-.9 2-2V5c0-1.1-.9-2-2-2zM9 17H7v-7h2v7zm4 0h-2V7h2v10zm4 0h-2v-4h2v4z\"/>\n",
              "    </g>\n",
              "</svg>\n",
              "  </button>\n",
              "\n",
              "<style>\n",
              "  .colab-df-quickchart {\n",
              "      --bg-color: #E8F0FE;\n",
              "      --fill-color: #1967D2;\n",
              "      --hover-bg-color: #E2EBFA;\n",
              "      --hover-fill-color: #174EA6;\n",
              "      --disabled-fill-color: #AAA;\n",
              "      --disabled-bg-color: #DDD;\n",
              "  }\n",
              "\n",
              "  [theme=dark] .colab-df-quickchart {\n",
              "      --bg-color: #3B4455;\n",
              "      --fill-color: #D2E3FC;\n",
              "      --hover-bg-color: #434B5C;\n",
              "      --hover-fill-color: #FFFFFF;\n",
              "      --disabled-bg-color: #3B4455;\n",
              "      --disabled-fill-color: #666;\n",
              "  }\n",
              "\n",
              "  .colab-df-quickchart {\n",
              "    background-color: var(--bg-color);\n",
              "    border: none;\n",
              "    border-radius: 50%;\n",
              "    cursor: pointer;\n",
              "    display: none;\n",
              "    fill: var(--fill-color);\n",
              "    height: 32px;\n",
              "    padding: 0;\n",
              "    width: 32px;\n",
              "  }\n",
              "\n",
              "  .colab-df-quickchart:hover {\n",
              "    background-color: var(--hover-bg-color);\n",
              "    box-shadow: 0 1px 2px rgba(60, 64, 67, 0.3), 0 1px 3px 1px rgba(60, 64, 67, 0.15);\n",
              "    fill: var(--button-hover-fill-color);\n",
              "  }\n",
              "\n",
              "  .colab-df-quickchart-complete:disabled,\n",
              "  .colab-df-quickchart-complete:disabled:hover {\n",
              "    background-color: var(--disabled-bg-color);\n",
              "    fill: var(--disabled-fill-color);\n",
              "    box-shadow: none;\n",
              "  }\n",
              "\n",
              "  .colab-df-spinner {\n",
              "    border: 2px solid var(--fill-color);\n",
              "    border-color: transparent;\n",
              "    border-bottom-color: var(--fill-color);\n",
              "    animation:\n",
              "      spin 1s steps(1) infinite;\n",
              "  }\n",
              "\n",
              "  @keyframes spin {\n",
              "    0% {\n",
              "      border-color: transparent;\n",
              "      border-bottom-color: var(--fill-color);\n",
              "      border-left-color: var(--fill-color);\n",
              "    }\n",
              "    20% {\n",
              "      border-color: transparent;\n",
              "      border-left-color: var(--fill-color);\n",
              "      border-top-color: var(--fill-color);\n",
              "    }\n",
              "    30% {\n",
              "      border-color: transparent;\n",
              "      border-left-color: var(--fill-color);\n",
              "      border-top-color: var(--fill-color);\n",
              "      border-right-color: var(--fill-color);\n",
              "    }\n",
              "    40% {\n",
              "      border-color: transparent;\n",
              "      border-right-color: var(--fill-color);\n",
              "      border-top-color: var(--fill-color);\n",
              "    }\n",
              "    60% {\n",
              "      border-color: transparent;\n",
              "      border-right-color: var(--fill-color);\n",
              "    }\n",
              "    80% {\n",
              "      border-color: transparent;\n",
              "      border-right-color: var(--fill-color);\n",
              "      border-bottom-color: var(--fill-color);\n",
              "    }\n",
              "    90% {\n",
              "      border-color: transparent;\n",
              "      border-bottom-color: var(--fill-color);\n",
              "    }\n",
              "  }\n",
              "</style>\n",
              "\n",
              "  <script>\n",
              "    async function quickchart(key) {\n",
              "      const quickchartButtonEl =\n",
              "        document.querySelector('#' + key + ' button');\n",
              "      quickchartButtonEl.disabled = true;  // To prevent multiple clicks.\n",
              "      quickchartButtonEl.classList.add('colab-df-spinner');\n",
              "      try {\n",
              "        const charts = await google.colab.kernel.invokeFunction(\n",
              "            'suggestCharts', [key], {});\n",
              "      } catch (error) {\n",
              "        console.error('Error during call to suggestCharts:', error);\n",
              "      }\n",
              "      quickchartButtonEl.classList.remove('colab-df-spinner');\n",
              "      quickchartButtonEl.classList.add('colab-df-quickchart-complete');\n",
              "    }\n",
              "    (() => {\n",
              "      let quickchartButtonEl =\n",
              "        document.querySelector('#df-3d0e003b-1d04-424d-90da-0db943b143b4 button');\n",
              "      quickchartButtonEl.style.display =\n",
              "        google.colab.kernel.accessAllowed ? 'block' : 'none';\n",
              "    })();\n",
              "  </script>\n",
              "</div>\n",
              "\n",
              "    </div>\n",
              "  </div>\n"
            ],
            "application/vnd.google.colaboratory.intrinsic+json": {
              "type": "dataframe",
              "variable_name": "movies_df",
              "summary": "{\n  \"name\": \"movies_df\",\n  \"rows\": 20000,\n  \"fields\": [\n    {\n      \"column\": \"movieId\",\n      \"properties\": {\n        \"dtype\": \"number\",\n        \"std\": 78636,\n        \"min\": 25,\n        \"max\": 292757,\n        \"num_unique_values\": 20000,\n        \"samples\": [\n          2532,\n          138338,\n          200426\n        ],\n        \"semantic_type\": \"\",\n        \"description\": \"\"\n      }\n    },\n    {\n      \"column\": \"title\",\n      \"properties\": {\n        \"dtype\": \"string\",\n        \"num_unique_values\": 19987,\n        \"samples\": [\n          \"She Ball (2020)\",\n          \"time for sushi (2017)\",\n          \"The Model and the Marriage Broker (1951)\"\n        ],\n        \"semantic_type\": \"\",\n        \"description\": \"\"\n      }\n    },\n    {\n      \"column\": \"genres\",\n      \"properties\": {\n        \"dtype\": \"category\",\n        \"num_unique_values\": 932,\n        \"samples\": [\n          \"Comedy|Crime|Drama|Horror\",\n          \"Adventure|Drama|Thriller\",\n          \"Adventure|War|Western\"\n        ],\n        \"semantic_type\": \"\",\n        \"description\": \"\"\n      }\n    }\n  ]\n}"
            }
          },
          "metadata": {},
          "execution_count": 2
        }
      ]
    },
    {
      "cell_type": "code",
      "source": [
        "import pandas as pd\n",
        "import requests\n",
        "\n",
        "\n",
        "# Set up TMDb API access\n",
        "api_key = \"56376c7845f4c1abd6553e5925f30584\"  # Replace with your actual TMDb API key\n",
        "base_url = \"https://api.themoviedb.org/3/movie/\"\n",
        "\n",
        "# Function to fetch top actors for a movie\n",
        "def get_top_actors(imdb_id):\n",
        "    url = f\"{base_url}{imdb_id}/credits?api_key={api_key}\"\n",
        "    response = requests.get(url)\n",
        "    if response.status_code == 200:\n",
        "        data = response.json()\n",
        "        # Extract the top actors, let's say the first 5 in billing order\n",
        "        top_actors = [member['name'] for member in data['cast'][:10]]\n",
        "        return top_actors\n",
        "    else:\n",
        "        return []\n",
        "\n",
        "# Iterate through the movies and fetch actors\n",
        "movie_actors = []\n",
        "\n",
        "for _, row in movies_df.iterrows():\n",
        "    movie_id = row['movieId']\n",
        "    imdb_id = row['title']  # or row['title'] if imdbId is unavailable and need title-based search\n",
        "    top_actors = get_top_actors(imdb_id)\n",
        "    for rank, actor in enumerate(top_actors, start=1):\n",
        "        movie_actors.append({'movieId': movie_id, 'title': row['title'], 'actor': actor, 'actor_rank': rank})\n",
        "\n",
        "# Convert to DataFrame and save as CSV\n",
        "movie_actors_df = pd.DataFrame(movie_actors)\n",
        "movie_actors_df.to_csv(\"movie_actors.csv\", index=False)\n",
        "print(\"Movie-actor relationships saved to movie_actors.csv\")\n"
      ],
      "metadata": {
        "colab": {
          "base_uri": "https://localhost:8080/"
        },
        "id": "MUba3VI3Mlq2",
        "outputId": "6a0f931e-7de3-4fbc-9429-6e654a50adcf"
      },
      "execution_count": null,
      "outputs": [
        {
          "output_type": "stream",
          "name": "stdout",
          "text": [
            "Movie-actor relationships saved to movie_actors.csv\n"
          ]
        }
      ]
    },
    {
      "cell_type": "code",
      "source": [
        "from bs4 import BeautifulSoup\n",
        "import requests\n",
        "\n",
        "def scrape_top_actors(url):\n",
        "    response = requests.get(url)\n",
        "    soup = BeautifulSoup(response.text, 'html.parser')\n",
        "    # Find and extract actors based on HTML structure\n",
        "    # Example:\n",
        "    actors = soup.select(\"div.actor-name\")[:20]  # Modify selector based on the actual structure\n",
        "    return [actor.text.strip() for actor in actors]\n"
      ],
      "metadata": {
        "id": "GxMmrsBJT3Yp"
      },
      "execution_count": 3,
      "outputs": []
    },
    {
      "cell_type": "code",
      "source": [
        "# Load data (assuming movie_actors.csv was created from the previous task)\n",
        "user_movie_ratings = pd.read_csv(\"ratings_set1.csv\")\n",
        "movie_actor_df = pd.read_csv(\"movie_actors.csv\")\n",
        "\n",
        "# Merge user ratings with actors\n",
        "user_actor_ratings = user_movie_ratings.merge(movie_actor_df, on=\"movieId\", how=\"inner\")\n",
        "\n",
        "# Calculate average rating per actor for each user\n",
        "user_actor_ratings = user_actor_ratings.groupby(['userId', 'actor']).agg({'rating': 'mean'}).reset_index()\n",
        "user_actor_ratings.rename(columns={'rating': 'user_actor_rating'}, inplace=True)\n",
        "\n",
        "# Step 3: Normalize or preprocess the data\n",
        "# Example: Filter out low-activity users or actors with few ratings\n",
        "user_counts = user_actor_ratings['userId'].value_counts()\n",
        "actor_counts = user_actor_ratings['actor'].value_counts()\n",
        "\n",
        "# Keep users who have rated at least `min_user_ratings` actors and actors with at least `min_actor_ratings` ratings\n",
        "min_user_ratings = 5\n",
        "min_actor_ratings = 5\n",
        "\n",
        "filtered_user_actor_ratings = user_actor_ratings[\n",
        "    (user_actor_ratings['userId'].isin(user_counts[user_counts >= min_user_ratings].index)) &\n",
        "    (user_actor_ratings['actor'].isin(actor_counts[actor_counts >= min_actor_ratings].index))\n",
        "]\n",
        "\n",
        "# Step 4: Save the user-actor ratings dataset for future use\n",
        "filtered_user_actor_ratings.to_csv(\"user_actor_ratings.csv\", index=False)\n"
      ],
      "metadata": {
        "id": "TYZySdc1eMYj"
      },
      "execution_count": 4,
      "outputs": []
    },
    {
      "cell_type": "code",
      "source": [
        "!pip install surprise"
      ],
      "metadata": {
        "colab": {
          "base_uri": "https://localhost:8080/"
        },
        "id": "n1Md82wg_9QC",
        "outputId": "387672f0-dc13-45e3-8c43-7fcad306d8a0"
      },
      "execution_count": 5,
      "outputs": [
        {
          "output_type": "stream",
          "name": "stdout",
          "text": [
            "Requirement already satisfied: surprise in /usr/local/lib/python3.10/dist-packages (0.1)\n",
            "Requirement already satisfied: scikit-surprise in /usr/local/lib/python3.10/dist-packages (from surprise) (1.1.4)\n",
            "Requirement already satisfied: joblib>=1.2.0 in /usr/local/lib/python3.10/dist-packages (from scikit-surprise->surprise) (1.4.2)\n",
            "Requirement already satisfied: numpy>=1.19.5 in /usr/local/lib/python3.10/dist-packages (from scikit-surprise->surprise) (1.26.4)\n",
            "Requirement already satisfied: scipy>=1.6.0 in /usr/local/lib/python3.10/dist-packages (from scikit-surprise->surprise) (1.13.1)\n"
          ]
        }
      ]
    },
    {
      "cell_type": "code",
      "source": [
        "print(user_actor_ratings[:50])"
      ],
      "metadata": {
        "colab": {
          "base_uri": "https://localhost:8080/"
        },
        "id": "f5IIrD9-CdY8",
        "outputId": "8c44f326-718b-4981-8bb5-390540096aa6"
      },
      "execution_count": 6,
      "outputs": [
        {
          "output_type": "stream",
          "name": "stdout",
          "text": [
            "    userId               actor  user_actor_rating\n",
            "0      106       Albert Brooks                5.0\n",
            "1      106     Alexander Gould                5.0\n",
            "2      106     Ellen DeGeneres                5.0\n",
            "3      106       Geoffrey Rush                5.0\n",
            "4      106        Willem Dafoe                5.0\n",
            "5      184         Albert Hall                4.0\n",
            "6      184    Frederic Forrest                4.0\n",
            "7      184  Laurence Fishburne                4.0\n",
            "8      184        Martin Sheen                4.0\n",
            "9      184         Sam Bottoms                4.0\n",
            "10     239  Alexandru Potocean                2.0\n",
            "11     239      Amanda Plummer                2.5\n",
            "12     239    Anamaria Marinca                2.0\n",
            "13     239       Kanako Masuda                1.5\n",
            "14     239       Laura Vasiliu                2.0\n",
            "15     239      Leonor Watling                2.5\n",
            "16     239  Luminița Gheorghiu                2.0\n",
            "17     239         Machiko Ono                1.5\n",
            "18     239     Makiko Watanabe                1.5\n",
            "19     239        Mark Ruffalo                2.5\n",
            "20     239        Sarah Polley                2.5\n",
            "21     239      Scott Speedman                2.5\n",
            "22     239         Shigeki Uda                1.5\n",
            "23     239         Vlad Ivanov                2.0\n",
            "24     239      Yoichiro Saito                1.5\n",
            "25     395        Esko Nikkari                2.5\n",
            "26     395        Kati Outinen                2.5\n",
            "27     395        Kylli Köngäs                2.5\n",
            "28     395     Matti Pellonpää                2.5\n",
            "29     395    Sakari Kuosmanen                2.5\n",
            "30     798         Albert Hall                3.5\n",
            "31     798       Alec Guinness                4.0\n",
            "32     798       Carrie Fisher                4.0\n",
            "33     798    Frederic Forrest                3.5\n",
            "34     798       Harrison Ford                4.0\n",
            "35     798  Laurence Fishburne                3.5\n",
            "36     798         Mark Hamill                4.0\n",
            "37     798        Martin Sheen                3.5\n",
            "38     798       Peter Cushing                4.0\n",
            "39     798         Sam Bottoms                3.5\n",
            "40     810      Amanda Plummer                4.5\n",
            "41     810       Kanako Masuda                5.0\n",
            "42     810      Leonor Watling                4.5\n",
            "43     810         Machiko Ono                5.0\n",
            "44     810     Makiko Watanabe                5.0\n",
            "45     810        Mark Ruffalo                4.5\n",
            "46     810        Sarah Polley                4.5\n",
            "47     810      Scott Speedman                4.5\n",
            "48     810         Shigeki Uda                5.0\n",
            "49     810      Yoichiro Saito                5.0\n"
          ]
        }
      ]
    },
    {
      "cell_type": "code",
      "source": [
        "from sklearn.metrics import precision_score, recall_score\n",
        "from sklearn.model_selection import train_test_split\n",
        "from surprise import Dataset, Reader, SVD, accuracy\n",
        "\n",
        "from surprise.model_selection import train_test_split  # Import train_test_split from surprise\n",
        "\n",
        "# Load data into Surprise format\n",
        "reader = Reader(rating_scale=(0.5, 5))\n",
        "data = Dataset.load_from_df(filtered_user_actor_ratings[['userId', 'actor', 'user_actor_rating']], reader)\n",
        "\n",
        "# Split data into train and test sets in the way that Surprise expects\n",
        "trainset, testset = train_test_split(data, test_size=0.2)\n",
        "\n",
        "\n",
        "# Train the SVD algorithm\n",
        "algo = SVD(n_factors=100, n_epochs=30, lr_all=0.005, reg_all=0.02)\n",
        "algo.fit(trainset)\n",
        "\n",
        "# Function to recommend top actors for a user\n",
        "def get_top_actors_for_user(user_id, n=20):\n",
        "    unique_actors = user_actor_ratings['actor'].unique()\n",
        "    predictions = [algo.predict(user_id, actor) for actor in unique_actors]\n",
        "    top_predictions = sorted(predictions, key=lambda x: x.est, reverse=True)[:n]\n",
        "    return [pred.iid for pred in top_predictions]\n",
        "\n",
        "# Example: Get top actors for a specific user\n",
        "top_actors_for_user_1 = get_top_actors_for_user(user_id=1)\n",
        "print(\"Top actors recommended for User 1:\", top_actors_for_user_1)\n"
      ],
      "metadata": {
        "colab": {
          "base_uri": "https://localhost:8080/"
        },
        "id": "GnTRHGlT75dn",
        "outputId": "75daec99-f9af-45bc-af0a-ddb196f220e1"
      },
      "execution_count": 7,
      "outputs": [
        {
          "output_type": "stream",
          "name": "stdout",
          "text": [
            "Top actors recommended for User 1: ['Marisa Paredes', 'Penélope Cruz', 'Antonia San Juan', 'Nancy Cartwright', 'Sophie Quinton', 'Candela Peña', 'Catherine Jacob', 'Michèle Moretti', 'Hank Azaria', 'Yasmine Belmadi', 'Laurent Lucas', 'Cecilia Roth', 'Chip Fitzwater', 'Bruce Brown', 'Alexander Gould', 'Dan Castellaneta', 'Ellen DeGeneres', 'Geoffrey Rush', 'Albert Brooks', 'Willem Dafoe']\n"
          ]
        }
      ]
    },
    {
      "cell_type": "code",
      "source": [
        "import pandas as pd\n",
        "from sklearn.metrics import precision_score, recall_score\n",
        "from sklearn.model_selection import train_test_split\n",
        "from surprise import Dataset, Reader, SVD, accuracy\n",
        "\n",
        "# Load datasets\n",
        "movies = pd.read_csv(\"movies_set1.csv\")\n",
        "ratings = pd.read_csv(\"ratings_set1.csv\")\n",
        "movie_actors = pd.read_csv(\"movie_actors.csv\")\n",
        "\n",
        "# Step 1: Map Users to Genres via Movies\n",
        "# Merge ratings with movies to get genres\n",
        "user_genre_ratings = ratings.merge(movies, on=\"movieId\", how=\"inner\")\n",
        "\n",
        "# Explode genres into separate rows\n",
        "user_genre_ratings['genres'] = user_genre_ratings['genres'].str.split('|')\n",
        "user_genre_ratings = user_genre_ratings.explode('genres')\n",
        "\n",
        "# Calculate average rating per genre for each user\n",
        "user_genre_pref = user_genre_ratings.groupby(['userId', 'genres']).agg({'rating': 'mean'}).reset_index()\n",
        "user_genre_pref.rename(columns={'rating': 'user_genre_rating'}, inplace=True)\n",
        "\n",
        "# Step 2: Link Movies to Genres and Actors\n",
        "# Merge movie_actors with movies to get genre information\n",
        "movie_genre_actors = movies.merge(movie_actors, on=\"movieId\", how=\"inner\")\n",
        "movie_genre_actors['genres'] = movie_genre_actors['genres'].str.split('|')\n",
        "movie_genre_actors = movie_genre_actors.explode('genres')\n",
        "\n",
        "# Step 3: Find Top Actors for Each Genre\n",
        "# Group by genre and actor, and calculate popularity (e.g., count of movies or average rating)\n",
        "top_actors_per_genre = movie_genre_actors.groupby(['genres', 'actor']).size().reset_index(name='actor_popularity')\n",
        "top_actors_per_genre = top_actors_per_genre.sort_values(['genres', 'actor_popularity'], ascending=[True, False])\n",
        "\n",
        "# Step 4: Recommend Actors Based on User Preferences\n",
        "def get_top_actors_for_user(user_id, n=10):\n",
        "    # Get user's preferred genres\n",
        "    user_top_genres = user_genre_pref[user_genre_pref['userId'] == user_id]\n",
        "    user_top_genres = user_top_genres.sort_values('user_genre_rating', ascending=False)['genres'].tolist()\n",
        "\n",
        "    # Get top actors for user's preferred genres\n",
        "    recommended_actors = []\n",
        "    for genre in user_top_genres:\n",
        "        genre_top_actors = top_actors_per_genre[top_actors_per_genre['genres'] == genre]['actor'].tolist()\n",
        "        recommended_actors.extend(genre_top_actors[:n])\n",
        "\n",
        "    # Deduplicate and return top N actors\n",
        "    return list(dict.fromkeys(recommended_actors))[:n]\n",
        "\n",
        "# Example: Get top actors for User 1\n",
        "top_actors_for_user_1 = get_top_actors_for_user(user_id=1, n=20)\n",
        "print(\"Top actors recommended for User 1:\", top_actors_for_user_1)\n"
      ],
      "metadata": {
        "colab": {
          "base_uri": "https://localhost:8080/"
        },
        "id": "vK-yNiUolE8I",
        "outputId": "e33553e9-a8f3-41f6-e368-a45ad7b111ce"
      },
      "execution_count": 8,
      "outputs": [
        {
          "output_type": "stream",
          "name": "stdout",
          "text": [
            "Top actors recommended for User 1: []\n"
          ]
        }
      ]
    },
    {
      "cell_type": "code",
      "source": [
        "# Define evaluation functions\n",
        "def precision_at_k(predictions, k=20):\n",
        "    top_k_preds = [pred for pred in predictions if pred.est >= 4][:k]\n",
        "    relevant_items = sum([1 for pred in top_k_preds if pred.r_ui >= 4])\n",
        "    return relevant_items / k if k > 0 else 0\n",
        "\n",
        "def recall_at_k(predictions, k=20):\n",
        "    top_k_preds = [pred for pred in predictions if pred.est >= 4][:k]\n",
        "    relevant_items = sum([1 for pred in top_k_preds if pred.r_ui >= 4])\n",
        "    return relevant_items / len(predictions) if len(predictions) > 0 else 0\n",
        "\n",
        "# Calculate precision and recall on the test set\n",
        "test_predictions = algo.test(testset)\n",
        "precision = precision_at_k(test_predictions, k=20)\n",
        "recall = recall_at_k(test_predictions, k=20)\n",
        "\n",
        "print(f'Precision@5: {precision}')\n",
        "print(f'Recall@5: {recall}')\n"
      ],
      "metadata": {
        "colab": {
          "base_uri": "https://localhost:8080/"
        },
        "id": "OarjifFc76ZG",
        "outputId": "dcf8af30-9589-4c6e-a72b-01c806cdf25b"
      },
      "execution_count": 9,
      "outputs": [
        {
          "output_type": "stream",
          "name": "stdout",
          "text": [
            "Precision@5: 1.0\n",
            "Recall@5: 0.008061265618702136\n"
          ]
        }
      ]
    },
    {
      "cell_type": "code",
      "source": [
        "import numpy as np\n",
        "\n",
        "# Define NDCG@k function\n",
        "def ndcg_at_k(predictions, k=20):\n",
        "    # Sort predictions by estimated rating in descending order\n",
        "    sorted_preds = sorted(predictions, key=lambda x: x.est, reverse=True)[:k]\n",
        "\n",
        "    # Calculate DCG\n",
        "    dcg = sum([(2 ** pred.r_ui - 1) / np.log2(idx + 2) for idx, pred in enumerate(sorted_preds)])\n",
        "\n",
        "    # Calculate IDCG (Ideal DCG)\n",
        "    sorted_by_relevance = sorted(predictions, key=lambda x: x.r_ui, reverse=True)[:k]\n",
        "    idcg = sum([(2 ** pred.r_ui - 1) / np.log2(idx + 2) for idx, pred in enumerate(sorted_by_relevance)])\n",
        "\n",
        "    # Return NDCG\n",
        "    return dcg / idcg if idcg > 0 else 0\n",
        "\n",
        "# Calculate NDCG on the test set\n",
        "ndcg = ndcg_at_k(test_predictions, k=20)\n",
        "\n",
        "print(f'NDCG@20: {ndcg}')\n"
      ],
      "metadata": {
        "colab": {
          "base_uri": "https://localhost:8080/"
        },
        "id": "NnY01zn5lEE5",
        "outputId": "5d52a18c-6fc1-4f2f-d0b9-aa27906b8959"
      },
      "execution_count": 10,
      "outputs": [
        {
          "output_type": "stream",
          "name": "stdout",
          "text": [
            "NDCG@20: 1.0\n"
          ]
        }
      ]
    },
    {
      "cell_type": "code",
      "source": [
        "import matplotlib.pyplot as plt\n",
        "\n",
        "# Plot distribution of user-actor ratings\n",
        "user_actor_ratings['user_actor_rating'].hist(bins=20)\n",
        "plt.title(\"Distribution of User-Actor Ratings\")\n",
        "plt.xlabel(\"Rating\")\n",
        "plt.ylabel(\"Frequency\")\n",
        "plt.show()\n",
        "\n",
        "# Visualize top-rated actors for a sample user\n",
        "sample_user_id = 1\n",
        "sample_top_actors = get_top_actors_for_user(sample_user_id, n=5)\n",
        "print(f\"Top-rated actors for User {sample_user_id}: {sample_top_actors}\")\n"
      ],
      "metadata": {
        "colab": {
          "base_uri": "https://localhost:8080/",
          "height": 490
        },
        "id": "wBkLWD1B79Vd",
        "outputId": "200dd7ff-124a-4051-f600-256fd6e3b996"
      },
      "execution_count": 11,
      "outputs": [
        {
          "output_type": "display_data",
          "data": {
            "text/plain": [
              "<Figure size 640x480 with 1 Axes>"
            ],
            "image/png": "[encoded data removed]"
          },
          "metadata": {}
        },
        {
          "output_type": "stream",
          "name": "stdout",
          "text": [
            "Top-rated actors for User 1: []\n"
          ]
        }
      ]
    },
    {
      "cell_type": "code",
      "source": [],
      "metadata": {
        "id": "YXrJtInqjqeN"
      },
      "execution_count": null,
      "outputs": []
    }
  ]
}